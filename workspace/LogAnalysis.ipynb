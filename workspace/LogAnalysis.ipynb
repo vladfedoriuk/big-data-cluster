{
 "cells": [
  {
   "cell_type": "code",
   "execution_count": 103,
   "id": "fef9117a-2f57-481c-8a9a-cccf1a7d9d85",
   "metadata": {},
   "outputs": [],
   "source": [
    "# Create a SparkSession\n",
    "from pyspark.sql import SparkSession\n",
    "\n",
    "spark = (\n",
    "    SparkSession\n",
    "    .builder\n",
    "    .appName(\"pyspark-notebook-log-analysis\")\n",
    "    .master(\"spark://spark-master:7077\")\n",
    "    .config(\"spark.executor.memory\", \"512m\")\n",
    "    .getOrCreate()\n",
    ")"
   ]
  },
  {
   "cell_type": "code",
   "execution_count": 104,
   "id": "15bab41c-0cd3-4a73-acf9-a9da4c2bfab1",
   "metadata": {},
   "outputs": [
    {
     "data": {
      "text/html": [
       "\n",
       "            <div>\n",
       "                <p><b>SparkSession - in-memory</b></p>\n",
       "                \n",
       "        <div>\n",
       "            <p><b>SparkContext</b></p>\n",
       "\n",
       "            <p><a href=\"http://spark-jupyter:4041\">Spark UI</a></p>\n",
       "\n",
       "            <dl>\n",
       "              <dt>Version</dt>\n",
       "                <dd><code>v3.4.0</code></dd>\n",
       "              <dt>Master</dt>\n",
       "                <dd><code>spark://spark-master:7077</code></dd>\n",
       "              <dt>AppName</dt>\n",
       "                <dd><code>pyspark-notebook-log-analysis</code></dd>\n",
       "            </dl>\n",
       "        </div>\n",
       "        \n",
       "            </div>\n",
       "        "
      ],
      "text/plain": [
       "<pyspark.sql.session.SparkSession at 0x7f87bb6e4c40>"
      ]
     },
     "execution_count": 104,
     "metadata": {},
     "output_type": "execute_result"
    }
   ],
   "source": [
    "spark"
   ]
  },
  {
   "cell_type": "code",
   "execution_count": 105,
   "id": "2dcf39a0-c271-4957-a7d9-cc61768937a4",
   "metadata": {},
   "outputs": [
    {
     "name": "stdout",
     "output_type": "stream",
     "text": [
      "root\n",
      " |-- value: string (nullable = true)\n",
      "\n"
     ]
    }
   ],
   "source": [
    "# Read the access.log file\n",
    "df = (\n",
    "    spark\n",
    "    .read\n",
    "    .text(\"hdfs://namenode:9000/access.log\")\n",
    ")\n",
    "# Print the schema\n",
    "df.printSchema()"
   ]
  },
  {
   "cell_type": "code",
   "execution_count": 106,
   "id": "d864deef-fce8-4a47-ada1-b719743777d7",
   "metadata": {},
   "outputs": [
    {
     "name": "stdout",
     "output_type": "stream",
     "text": [
      "+----------------------------------------------------------------------------------------------------------------------------------------------------------------------------------------------------------------------------------------------------------------------------------------------+\n",
      "|value                                                                                                                                                                                                                                                                                         |\n",
      "+----------------------------------------------------------------------------------------------------------------------------------------------------------------------------------------------------------------------------------------------------------------------------------------------+\n",
      "|185.191.171.19 - - [08/Nov/2020:04:00:09 +0100] \"GET /pl/pracownicy/pracownik.php?cID=250&print=1&s=publikacje HTTP/1.1\" 200 1127 \"-\" \"Mozilla/5.0 (compatible; SemrushBot/6~bl; +http://www.semrush.com/bot.html)\"                                                                           |\n",
      "|185.191.171.43 - - [08/Nov/2020:04:01:08 +0100] \"GET /pl/odnosniki/ HTTP/1.1\" 200 17158 \"-\" \"Mozilla/5.0 (compatible; SemrushBot/6~bl; +http://www.semrush.com/bot.html)\"                                                                                                                     |\n",
      "|185.191.171.17 - - [08/Nov/2020:04:01:21 +0100] \"GET /en/pracownicy/pracownik.php?cID=66&print=1&s=pracownik HTTP/1.1\" 200 1127 \"-\" \"Mozilla/5.0 (compatible; SemrushBot/6~bl; +http://www.semrush.com/bot.html)\"                                                                             |\n",
      "|13.66.139.2 - - [08/Nov/2020:04:01:26 +0100] \"GET /pl/jednostki/jednostka.php?cID=22 HTTP/1.1\" 200 11652 \"-\" \"Mozilla/5.0 (compatible; bingbot/2.0; +http://www.bing.com/bingbot.htm)\"                                                                                                        |\n",
      "|114.119.135.32 - - [08/Nov/2020:04:01:35 +0100] \"GET /en/pracownicy/pracownik.php?cID=243&s=seminaria HTTP/1.1\" 200 6224 \"-\" \"Mozilla/5.0 (Linux; Android 7.0;) AppleWebKit/537.36 (KHTML, like Gecko) Mobile Safari/537.36 (compatible; PetalBot;+https://aspiegel.com/petalbot)\"            |\n",
      "|185.191.171.18 - - [08/Nov/2020:04:01:38 +0100] \"GET /en/pracownicy/pracownik.php?cID=257&s=redaktorstwo HTTP/1.1\" 200 6462 \"-\" \"Mozilla/5.0 (compatible; SemrushBot/6~bl; +http://www.semrush.com/bot.html)\"                                                                                 |\n",
      "|114.119.138.170 - - [08/Nov/2020:04:01:59 +0100] \"GET /en/pracownicy/pracownik.php?cID=252&s=redaktorstwo&print=1 HTTP/1.1\" 200 1127 \"-\" \"Mozilla/5.0 (Linux; Android 7.0;) AppleWebKit/537.36 (KHTML, like Gecko) Mobile Safari/537.36 (compatible; PetalBot;+https://aspiegel.com/petalbot)\"|\n",
      "|114.119.141.67 - - [08/Nov/2020:04:02:45 +0100] \"GET /pl/jednostki/jednostka.php?cID=4&s=jednostka HTTP/1.1\" 200 8158 \"-\" \"Mozilla/5.0 (Linux; Android 7.0;) AppleWebKit/537.36 (KHTML, like Gecko) Mobile Safari/537.36 (compatible; PetalBot;+https://aspiegel.com/petalbot)\"               |\n",
      "|185.191.171.7 - - [08/Nov/2020:04:02:49 +0100] \"GET /pl/jednostki/jednostka.php?cID=18&print=1&s=redaktorstwo HTTP/1.1\" 200 1127 \"-\" \"Mozilla/5.0 (compatible; SemrushBot/6~bl; +http://www.semrush.com/bot.html)\"                                                                            |\n",
      "|185.191.171.38 - - [08/Nov/2020:04:02:56 +0100] \"GET /en/pracownicy/pracownik.php?cID=62&print=1&s=redaktorstwo HTTP/1.1\" 200 1127 \"-\" \"Mozilla/5.0 (compatible; SemrushBot/6~bl; +http://www.semrush.com/bot.html)\"                                                                          |\n",
      "+----------------------------------------------------------------------------------------------------------------------------------------------------------------------------------------------------------------------------------------------------------------------------------------------+\n",
      "only showing top 10 rows\n",
      "\n"
     ]
    }
   ],
   "source": [
    "df.show(10, truncate=False)"
   ]
  },
  {
   "cell_type": "code",
   "execution_count": 107,
   "id": "c97d2169-ef71-416a-87a1-5f09fe3810f2",
   "metadata": {},
   "outputs": [
    {
     "name": "stdout",
     "output_type": "stream",
     "text": [
      "(14946, 1)\n"
     ]
    }
   ],
   "source": [
    "print((df.count(), len(df.columns)))"
   ]
  },
  {
   "cell_type": "code",
   "execution_count": 108,
   "id": "3d14f9ea-5f1c-4605-9015-23cfa383d2fc",
   "metadata": {},
   "outputs": [
    {
     "data": {
      "text/plain": [
       "['185.191.171.19 - - [08/Nov/2020:04:00:09 +0100] \"GET /pl/pracownicy/pracownik.php?cID=250&print=1&s=publikacje HTTP/1.1\" 200 1127 \"-\" \"Mozilla/5.0 (compatible; SemrushBot/6~bl; +http://www.semrush.com/bot.html)\"',\n",
       " '185.191.171.43 - - [08/Nov/2020:04:01:08 +0100] \"GET /pl/odnosniki/ HTTP/1.1\" 200 17158 \"-\" \"Mozilla/5.0 (compatible; SemrushBot/6~bl; +http://www.semrush.com/bot.html)\"',\n",
       " '185.191.171.17 - - [08/Nov/2020:04:01:21 +0100] \"GET /en/pracownicy/pracownik.php?cID=66&print=1&s=pracownik HTTP/1.1\" 200 1127 \"-\" \"Mozilla/5.0 (compatible; SemrushBot/6~bl; +http://www.semrush.com/bot.html)\"',\n",
       " '13.66.139.2 - - [08/Nov/2020:04:01:26 +0100] \"GET /pl/jednostki/jednostka.php?cID=22 HTTP/1.1\" 200 11652 \"-\" \"Mozilla/5.0 (compatible; bingbot/2.0; +http://www.bing.com/bingbot.htm)\"',\n",
       " '114.119.135.32 - - [08/Nov/2020:04:01:35 +0100] \"GET /en/pracownicy/pracownik.php?cID=243&s=seminaria HTTP/1.1\" 200 6224 \"-\" \"Mozilla/5.0 (Linux; Android 7.0;) AppleWebKit/537.36 (KHTML, like Gecko) Mobile Safari/537.36 (compatible; PetalBot;+https://aspiegel.com/petalbot)\"',\n",
       " '185.191.171.18 - - [08/Nov/2020:04:01:38 +0100] \"GET /en/pracownicy/pracownik.php?cID=257&s=redaktorstwo HTTP/1.1\" 200 6462 \"-\" \"Mozilla/5.0 (compatible; SemrushBot/6~bl; +http://www.semrush.com/bot.html)\"',\n",
       " '114.119.138.170 - - [08/Nov/2020:04:01:59 +0100] \"GET /en/pracownicy/pracownik.php?cID=252&s=redaktorstwo&print=1 HTTP/1.1\" 200 1127 \"-\" \"Mozilla/5.0 (Linux; Android 7.0;) AppleWebKit/537.36 (KHTML, like Gecko) Mobile Safari/537.36 (compatible; PetalBot;+https://aspiegel.com/petalbot)\"',\n",
       " '114.119.141.67 - - [08/Nov/2020:04:02:45 +0100] \"GET /pl/jednostki/jednostka.php?cID=4&s=jednostka HTTP/1.1\" 200 8158 \"-\" \"Mozilla/5.0 (Linux; Android 7.0;) AppleWebKit/537.36 (KHTML, like Gecko) Mobile Safari/537.36 (compatible; PetalBot;+https://aspiegel.com/petalbot)\"',\n",
       " '185.191.171.7 - - [08/Nov/2020:04:02:49 +0100] \"GET /pl/jednostki/jednostka.php?cID=18&print=1&s=redaktorstwo HTTP/1.1\" 200 1127 \"-\" \"Mozilla/5.0 (compatible; SemrushBot/6~bl; +http://www.semrush.com/bot.html)\"',\n",
       " '185.191.171.38 - - [08/Nov/2020:04:02:56 +0100] \"GET /en/pracownicy/pracownik.php?cID=62&print=1&s=redaktorstwo HTTP/1.1\" 200 1127 \"-\" \"Mozilla/5.0 (compatible; SemrushBot/6~bl; +http://www.semrush.com/bot.html)\"',\n",
       " '185.191.171.7 - - [08/Nov/2020:04:03:39 +0100] \"GET /en/jednostki/jednostka.php?cID=12&print=1&s=konferencje HTTP/1.1\" 200 1127 \"-\" \"Mozilla/5.0 (compatible; SemrushBot/6~bl; +http://www.semrush.com/bot.html)\"',\n",
       " '185.191.171.24 - - [08/Nov/2020:04:03:44 +0100] \"GET /pl/ogloszenie.php?PKV=395 HTTP/1.1\" 200 7064 \"-\" \"Mozilla/5.0 (compatible; SemrushBot/6~bl; +http://www.semrush.com/bot.html)\"',\n",
       " '185.191.171.26 - - [08/Nov/2020:04:04:11 +0100] \"GET /en/pracownicy/pracownik.php?cID=115 HTTP/1.1\" 200 7984 \"-\" \"Mozilla/5.0 (compatible; SemrushBot/6~bl; +http://www.semrush.com/bot.html)\"',\n",
       " '54.36.148.93 - - [08/Nov/2020:04:04:24 +0100] \"GET /robots.txt HTTP/1.1\" 200 160 \"-\" \"Mozilla/5.0 (compatible; AhrefsBot/6.1; +http://ahrefs.com/robot/)\"',\n",
       " '54.36.148.11 - - [08/Nov/2020:04:04:25 +0100] \"GET /en/pracownicy/pracownik.php?cID=89&s=seminaria&print=1 HTTP/1.1\" 302 - \"-\" \"Mozilla/5.0 (compatible; AhrefsBot/7.0; +http://ahrefs.com/robot/)\"']"
      ]
     },
     "execution_count": 108,
     "metadata": {},
     "output_type": "execute_result"
    }
   ],
   "source": [
    "sample_logs = [item['value'] for item in df.take(15)]\n",
    "sample_logs"
   ]
  },
  {
   "cell_type": "code",
   "execution_count": 109,
   "id": "bbacda64-a0cb-4130-81a7-6e2cd1ef545d",
   "metadata": {},
   "outputs": [
    {
     "data": {
      "text/plain": [
       "['185.191.171.19',\n",
       " '185.191.171.43',\n",
       " '185.191.171.17',\n",
       " '13.66.139.2',\n",
       " '114.119.135.32',\n",
       " '185.191.171.18',\n",
       " '114.119.138.170',\n",
       " '114.119.141.67',\n",
       " '185.191.171.7',\n",
       " '185.191.171.38',\n",
       " '185.191.171.7',\n",
       " '185.191.171.24',\n",
       " '185.191.171.26',\n",
       " '54.36.148.93',\n",
       " '54.36.148.11']"
      ]
     },
     "execution_count": 109,
     "metadata": {},
     "output_type": "execute_result"
    }
   ],
   "source": [
    "import re\n",
    "\n",
    "host_pattern = r'(^\\S+\\.[\\S+\\.]+\\S+)\\s'\n",
    "hosts = [re.search(host_pattern, item).group(1)\n",
    "           if re.search(host_pattern, item)\n",
    "           else 'no match'\n",
    "           for item in sample_logs]\n",
    "hosts"
   ]
  },
  {
   "cell_type": "code",
   "execution_count": 110,
   "id": "60918c04-9ef7-4bcf-b265-510c51294368",
   "metadata": {},
   "outputs": [
    {
     "data": {
      "text/plain": [
       "['08/Nov/2020:04:00:09 +0100',\n",
       " '08/Nov/2020:04:01:08 +0100',\n",
       " '08/Nov/2020:04:01:21 +0100',\n",
       " '08/Nov/2020:04:01:26 +0100',\n",
       " '08/Nov/2020:04:01:35 +0100',\n",
       " '08/Nov/2020:04:01:38 +0100',\n",
       " '08/Nov/2020:04:01:59 +0100',\n",
       " '08/Nov/2020:04:02:45 +0100',\n",
       " '08/Nov/2020:04:02:49 +0100',\n",
       " '08/Nov/2020:04:02:56 +0100',\n",
       " '08/Nov/2020:04:03:39 +0100',\n",
       " '08/Nov/2020:04:03:44 +0100',\n",
       " '08/Nov/2020:04:04:11 +0100',\n",
       " '08/Nov/2020:04:04:24 +0100',\n",
       " '08/Nov/2020:04:04:25 +0100']"
      ]
     },
     "execution_count": 110,
     "metadata": {},
     "output_type": "execute_result"
    }
   ],
   "source": [
    "ts_pattern = r'\\[(\\d{2}/\\w{3}/\\d{4}:\\d{2}:\\d{2}:\\d{2} \\+\\d{4})\\]'\n",
    "timestamps = [\n",
    "    re.search(ts_pattern, item).group(1)\n",
    "    if re.search(ts_pattern, item)\n",
    "    else 'no match' for item in sample_logs\n",
    "]\n",
    "timestamps"
   ]
  },
  {
   "cell_type": "code",
   "execution_count": 111,
   "id": "1bd8929d-99ec-4308-a95d-22499a83ce19",
   "metadata": {},
   "outputs": [
    {
     "data": {
      "text/plain": [
       "[('GET',\n",
       "  '/pl/pracownicy/pracownik.php?cID=250&print=1&s=publikacje',\n",
       "  'HTTP/1.1'),\n",
       " ('GET', '/pl/odnosniki/', 'HTTP/1.1'),\n",
       " ('GET',\n",
       "  '/en/pracownicy/pracownik.php?cID=66&print=1&s=pracownik',\n",
       "  'HTTP/1.1'),\n",
       " ('GET', '/pl/jednostki/jednostka.php?cID=22', 'HTTP/1.1'),\n",
       " ('GET', '/en/pracownicy/pracownik.php?cID=243&s=seminaria', 'HTTP/1.1'),\n",
       " ('GET', '/en/pracownicy/pracownik.php?cID=257&s=redaktorstwo', 'HTTP/1.1'),\n",
       " ('GET',\n",
       "  '/en/pracownicy/pracownik.php?cID=252&s=redaktorstwo&print=1',\n",
       "  'HTTP/1.1'),\n",
       " ('GET', '/pl/jednostki/jednostka.php?cID=4&s=jednostka', 'HTTP/1.1'),\n",
       " ('GET',\n",
       "  '/pl/jednostki/jednostka.php?cID=18&print=1&s=redaktorstwo',\n",
       "  'HTTP/1.1'),\n",
       " ('GET',\n",
       "  '/en/pracownicy/pracownik.php?cID=62&print=1&s=redaktorstwo',\n",
       "  'HTTP/1.1'),\n",
       " ('GET',\n",
       "  '/en/jednostki/jednostka.php?cID=12&print=1&s=konferencje',\n",
       "  'HTTP/1.1'),\n",
       " ('GET', '/pl/ogloszenie.php?PKV=395', 'HTTP/1.1'),\n",
       " ('GET', '/en/pracownicy/pracownik.php?cID=115', 'HTTP/1.1'),\n",
       " ('GET', '/robots.txt', 'HTTP/1.1'),\n",
       " ('GET',\n",
       "  '/en/pracownicy/pracownik.php?cID=89&s=seminaria&print=1',\n",
       "  'HTTP/1.1')]"
      ]
     },
     "execution_count": 111,
     "metadata": {},
     "output_type": "execute_result"
    }
   ],
   "source": [
    "method_uri_protocol_pattern = r'\\\"(\\S+)\\s(\\S+)\\s*(\\S*)\\\"'\n",
    "method_uri_protocol = [\n",
    "    re.search(method_uri_protocol_pattern, item).groups()\n",
    "    if re.search(method_uri_protocol_pattern, item)\n",
    "    else 'no match'\n",
    "    for item in sample_logs\n",
    "]\n",
    "method_uri_protocol"
   ]
  },
  {
   "cell_type": "code",
   "execution_count": 112,
   "id": "1f182c39-0b35-4053-9289-590abd32cbfb",
   "metadata": {},
   "outputs": [
    {
     "name": "stdout",
     "output_type": "stream",
     "text": [
      "['200', '200', '200', '200', '200', '200', '200', '200', '200', '200', '200', '200', '200', '200', '302']\n"
     ]
    }
   ],
   "source": [
    "status_pattern = r'\\s(\\d{3})\\s'\n",
    "status = [re.search(status_pattern, item).group(1) for item in sample_logs]\n",
    "print(status)"
   ]
  },
  {
   "cell_type": "code",
   "execution_count": 113,
   "id": "b992f1ee-59c0-4c20-9340-2d410f27aaef",
   "metadata": {},
   "outputs": [
    {
     "name": "stdout",
     "output_type": "stream",
     "text": [
      "['1127', '17158', '1127', '11652', '6224', '6462', '1127', '8158', '1127', '1127', '1127', '7064', '7984', '160', 'no-match']\n"
     ]
    }
   ],
   "source": [
    "content_size_pattern = r'(\\d+) \\\"\\-\\\"'\n",
    "content_size = [re.search(content_size_pattern, item).group(1) if re.search(content_size_pattern, item) else \"no-match\" for item in sample_logs]\n",
    "print(content_size)"
   ]
  },
  {
   "cell_type": "code",
   "execution_count": 114,
   "id": "0727e17b-832d-4b12-8bb5-ba06c84a5c4d",
   "metadata": {},
   "outputs": [
    {
     "name": "stdout",
     "output_type": "stream",
     "text": [
      "+---------------+--------------------+------+--------------------+--------+------+------------+\n",
      "|           host|           timestamp|method|            endpoint|protocol|status|content_size|\n",
      "+---------------+--------------------+------+--------------------+--------+------+------------+\n",
      "| 185.191.171.19|08/Nov/2020:04:00...|   GET|/pl/pracownicy/pr...|HTTP/1.1|   200|        1127|\n",
      "| 185.191.171.43|08/Nov/2020:04:01...|   GET|      /pl/odnosniki/|HTTP/1.1|   200|       17158|\n",
      "| 185.191.171.17|08/Nov/2020:04:01...|   GET|/en/pracownicy/pr...|HTTP/1.1|   200|        1127|\n",
      "|    13.66.139.2|08/Nov/2020:04:01...|   GET|/pl/jednostki/jed...|HTTP/1.1|   200|       11652|\n",
      "| 114.119.135.32|08/Nov/2020:04:01...|   GET|/en/pracownicy/pr...|HTTP/1.1|   200|        6224|\n",
      "| 185.191.171.18|08/Nov/2020:04:01...|   GET|/en/pracownicy/pr...|HTTP/1.1|   200|        6462|\n",
      "|114.119.138.170|08/Nov/2020:04:01...|   GET|/en/pracownicy/pr...|HTTP/1.1|   200|        1127|\n",
      "| 114.119.141.67|08/Nov/2020:04:02...|   GET|/pl/jednostki/jed...|HTTP/1.1|   200|        8158|\n",
      "|  185.191.171.7|08/Nov/2020:04:02...|   GET|/pl/jednostki/jed...|HTTP/1.1|   200|        1127|\n",
      "| 185.191.171.38|08/Nov/2020:04:02...|   GET|/en/pracownicy/pr...|HTTP/1.1|   200|        1127|\n",
      "+---------------+--------------------+------+--------------------+--------+------+------------+\n",
      "only showing top 10 rows\n",
      "\n"
     ]
    }
   ],
   "source": [
    "from pyspark.sql.functions import regexp_extract\n",
    "\n",
    "logs_df = df.select(\n",
    "    regexp_extract('value', host_pattern, 1).alias('host'),\n",
    "    regexp_extract('value', ts_pattern, 1).alias('timestamp'),\n",
    "    regexp_extract('value', method_uri_protocol_pattern, 1).alias('method'),\n",
    "    regexp_extract('value', method_uri_protocol_pattern, 2).alias('endpoint'),\n",
    "    regexp_extract('value', method_uri_protocol_pattern, 3).alias('protocol'),\n",
    "    regexp_extract('value', status_pattern, 1).cast('integer').alias('status'),\n",
    "    regexp_extract('value', content_size_pattern, 1).cast('integer').alias('content_size')\n",
    ")\n",
    "logs_df.show(10, truncate=True)"
   ]
  },
  {
   "cell_type": "code",
   "execution_count": 115,
   "id": "e5b161f0-2797-4290-912f-01be7ec3f28c",
   "metadata": {},
   "outputs": [
    {
     "data": {
      "text/plain": [
       "14946"
      ]
     },
     "execution_count": 115,
     "metadata": {},
     "output_type": "execute_result"
    }
   ],
   "source": [
    "logs_df.count()"
   ]
  },
  {
   "cell_type": "code",
   "execution_count": 116,
   "id": "118e23d7-b751-492d-a1cf-2beb54ed6c15",
   "metadata": {},
   "outputs": [
    {
     "data": {
      "text/plain": [
       "0"
      ]
     },
     "execution_count": 116,
     "metadata": {},
     "output_type": "execute_result"
    }
   ],
   "source": [
    "df.filter(df['value'].isNull()).count()"
   ]
  },
  {
   "cell_type": "code",
   "execution_count": 117,
   "id": "e9e37237-710e-45be-b898-3ba9cd595400",
   "metadata": {},
   "outputs": [
    {
     "data": {
      "text/plain": [
       "6071"
      ]
     },
     "execution_count": 117,
     "metadata": {},
     "output_type": "execute_result"
    }
   ],
   "source": [
    "bad_rows_df = logs_df.filter(\n",
    "    logs_df['host'].isNull()| \n",
    "    logs_df['timestamp'].isNull() | \n",
    "    logs_df['method'].isNull() |\n",
    "    logs_df['endpoint'].isNull() |\n",
    "    logs_df['status'].isNull() |\n",
    "    logs_df['content_size'].isNull()|\n",
    "    logs_df['protocol'].isNull()\n",
    ")\n",
    "bad_rows_df.count()"
   ]
  },
  {
   "cell_type": "code",
   "execution_count": 118,
   "id": "4fca3899-83a7-4dba-a2f5-a9d825e72328",
   "metadata": {},
   "outputs": [
    {
     "name": "stdout",
     "output_type": "stream",
     "text": [
      "+----+---------+------+--------+--------+------+------------+\n",
      "|host|timestamp|method|endpoint|protocol|status|content_size|\n",
      "+----+---------+------+--------+--------+------+------------+\n",
      "|   0|        0|     0|       0|       0|     0|        6071|\n",
      "+----+---------+------+--------+--------+------+------------+\n",
      "\n"
     ]
    }
   ],
   "source": [
    "from pyspark.sql.functions import col\n",
    "from pyspark.sql.functions import sum as spark_sum\n",
    "\n",
    "def count_null(col_name):\n",
    "    return spark_sum(col(col_name).isNull().cast('integer')).alias(col_name)\n",
    "\n",
    "logs_df.agg(*(count_null(col_name) for col_name in logs_df.columns)).show()"
   ]
  },
  {
   "cell_type": "code",
   "execution_count": 80,
   "id": "3e36b91f-ace5-4c78-9c7a-2ff7026b4e49",
   "metadata": {},
   "outputs": [
    {
     "name": "stdout",
     "output_type": "stream",
     "text": [
      "+----+---------+------+--------+--------+------+------------+\n",
      "|host|timestamp|method|endpoint|protocol|status|content_size|\n",
      "+----+---------+------+--------+--------+------+------------+\n",
      "|   0|        0|     0|       0|       0|     0|           0|\n",
      "+----+---------+------+--------+--------+------+------------+\n",
      "\n"
     ]
    }
   ],
   "source": [
    "logs_df = logs_df.na.fill({'content_size': 0})\n",
    "logs_df.agg(*(count_null(col_name) for col_name in logs_df.columns)).show()"
   ]
  },
  {
   "cell_type": "code",
   "execution_count": 119,
   "id": "5d7835e1-1575-4580-b17b-2b82ebfea855",
   "metadata": {},
   "outputs": [],
   "source": [
    "from pyspark.sql.functions import udf\n",
    "\n",
    "month_map = {\n",
    "  'Jan': 1, 'Feb': 2, 'Mar':3, 'Apr':4, 'May':5, 'Jun':6, 'Jul':7,\n",
    "  'Aug':8,  'Sep': 9, 'Oct':10, 'Nov': 11, 'Dec': 12\n",
    "}\n",
    "\n",
    "\n",
    "@udf\n",
    "def parse_clf_time(text):\n",
    "    \"\"\"\n",
    "    Convert Common Log time format into a Python datetime object\n",
    "    Args:\n",
    "        text (str): date and time in Apache time format [dd/mmm/yyyy:hh:mm:ss (+/-)zzzz]\n",
    "    Returns:\n",
    "        a string suitable for passing to CAST('timestamp')\n",
    "    \"\"\"\n",
    "    return \"{}-{}-{} {}:{}:{} {}\".format(\n",
    "        text[7:11],\n",
    "        month_map[text[3:6]],\n",
    "        text[0:2],\n",
    "        text[12:14],\n",
    "        text[15:17],\n",
    "        text[18:20],\n",
    "        text[21:26]\n",
    "    )"
   ]
  },
  {
   "cell_type": "code",
   "execution_count": 120,
   "id": "221bc5d9-5d5f-46f9-b1e9-9c865de8b456",
   "metadata": {},
   "outputs": [
    {
     "name": "stdout",
     "output_type": "stream",
     "text": [
      "+---------------+------+--------------------+--------+------+------------+-------------------+\n",
      "|           host|method|            endpoint|protocol|status|content_size|               time|\n",
      "+---------------+------+--------------------+--------+------+------------+-------------------+\n",
      "| 185.191.171.19|   GET|/pl/pracownicy/pr...|HTTP/1.1|   200|        1127|2020-11-08 03:00:09|\n",
      "| 185.191.171.43|   GET|      /pl/odnosniki/|HTTP/1.1|   200|       17158|2020-11-08 03:01:08|\n",
      "| 185.191.171.17|   GET|/en/pracownicy/pr...|HTTP/1.1|   200|        1127|2020-11-08 03:01:21|\n",
      "|    13.66.139.2|   GET|/pl/jednostki/jed...|HTTP/1.1|   200|       11652|2020-11-08 03:01:26|\n",
      "| 114.119.135.32|   GET|/en/pracownicy/pr...|HTTP/1.1|   200|        6224|2020-11-08 03:01:35|\n",
      "| 185.191.171.18|   GET|/en/pracownicy/pr...|HTTP/1.1|   200|        6462|2020-11-08 03:01:38|\n",
      "|114.119.138.170|   GET|/en/pracownicy/pr...|HTTP/1.1|   200|        1127|2020-11-08 03:01:59|\n",
      "| 114.119.141.67|   GET|/pl/jednostki/jed...|HTTP/1.1|   200|        8158|2020-11-08 03:02:45|\n",
      "|  185.191.171.7|   GET|/pl/jednostki/jed...|HTTP/1.1|   200|        1127|2020-11-08 03:02:49|\n",
      "| 185.191.171.38|   GET|/en/pracownicy/pr...|HTTP/1.1|   200|        1127|2020-11-08 03:02:56|\n",
      "+---------------+------+--------------------+--------+------+------------+-------------------+\n",
      "only showing top 10 rows\n",
      "\n"
     ]
    }
   ],
   "source": [
    "logs_df = (\n",
    "    logs_df.select(\n",
    "        '*',\n",
    "        (\n",
    "            parse_clf_time(\n",
    "                logs_df['timestamp']\n",
    "            )\n",
    "            .cast('timestamp')\n",
    "            .alias('time')\n",
    "        )\n",
    "    )\n",
    ").drop('timestamp')\n",
    "\n",
    "logs_df.show(10, truncate=True)"
   ]
  },
  {
   "cell_type": "code",
   "execution_count": 121,
   "id": "ca2f82ac-bf4c-47ce-ab61-d4b4c5fa25f8",
   "metadata": {},
   "outputs": [
    {
     "name": "stdout",
     "output_type": "stream",
     "text": [
      "root\n",
      " |-- host: string (nullable = true)\n",
      " |-- method: string (nullable = true)\n",
      " |-- endpoint: string (nullable = true)\n",
      " |-- protocol: string (nullable = true)\n",
      " |-- status: integer (nullable = true)\n",
      " |-- content_size: integer (nullable = true)\n",
      " |-- time: timestamp (nullable = true)\n",
      "\n"
     ]
    }
   ],
   "source": [
    "logs_df.printSchema()"
   ]
  },
  {
   "cell_type": "code",
   "execution_count": 122,
   "id": "22807164-65f7-45f4-b632-2f2602242a78",
   "metadata": {},
   "outputs": [
    {
     "data": {
      "text/plain": [
       "DataFrame[host: string, method: string, endpoint: string, protocol: string, status: int, content_size: int, time: timestamp]"
      ]
     },
     "execution_count": 122,
     "metadata": {},
     "output_type": "execute_result"
    }
   ],
   "source": [
    "logs_df.cache()"
   ]
  },
  {
   "cell_type": "code",
   "execution_count": 123,
   "id": "c7e691df-8414-4dba-89f8-00b3b87c4665",
   "metadata": {},
   "outputs": [
    {
     "data": {
      "text/html": [
       "<div>\n",
       "<style scoped>\n",
       "    .dataframe tbody tr th:only-of-type {\n",
       "        vertical-align: middle;\n",
       "    }\n",
       "\n",
       "    .dataframe tbody tr th {\n",
       "        vertical-align: top;\n",
       "    }\n",
       "\n",
       "    .dataframe thead th {\n",
       "        text-align: right;\n",
       "    }\n",
       "</style>\n",
       "<table border=\"1\" class=\"dataframe\">\n",
       "  <thead>\n",
       "    <tr style=\"text-align: right;\">\n",
       "      <th></th>\n",
       "      <th>summary</th>\n",
       "      <th>content_size</th>\n",
       "    </tr>\n",
       "  </thead>\n",
       "  <tbody>\n",
       "    <tr>\n",
       "      <th>0</th>\n",
       "      <td>count</td>\n",
       "      <td>8875</td>\n",
       "    </tr>\n",
       "    <tr>\n",
       "      <th>1</th>\n",
       "      <td>mean</td>\n",
       "      <td>61475.26591549296</td>\n",
       "    </tr>\n",
       "    <tr>\n",
       "      <th>2</th>\n",
       "      <td>stddev</td>\n",
       "      <td>682742.6532386552</td>\n",
       "    </tr>\n",
       "    <tr>\n",
       "      <th>3</th>\n",
       "      <td>min</td>\n",
       "      <td>1</td>\n",
       "    </tr>\n",
       "    <tr>\n",
       "      <th>4</th>\n",
       "      <td>max</td>\n",
       "      <td>25566028</td>\n",
       "    </tr>\n",
       "  </tbody>\n",
       "</table>\n",
       "</div>"
      ],
      "text/plain": [
       "  summary       content_size\n",
       "0   count               8875\n",
       "1    mean  61475.26591549296\n",
       "2  stddev  682742.6532386552\n",
       "3     min                  1\n",
       "4     max           25566028"
      ]
     },
     "execution_count": 123,
     "metadata": {},
     "output_type": "execute_result"
    }
   ],
   "source": [
    "content_size_summary_df = logs_df.describe(['content_size'])\n",
    "content_size_summary_df.toPandas()"
   ]
  },
  {
   "cell_type": "code",
   "execution_count": 124,
   "id": "24feaa2e-2dd5-458c-97f8-70b4816ebcdd",
   "metadata": {},
   "outputs": [
    {
     "name": "stdout",
     "output_type": "stream",
     "text": [
      "Total distinct HTTP Status Codes: 10\n"
     ]
    }
   ],
   "source": [
    "status_freq_df = (\n",
    "    logs_df\n",
    "    .groupBy('status')\n",
    "    .count()\n",
    "    .sort('status')\n",
    "    .cache()\n",
    ")\n",
    "print('Total distinct HTTP Status Codes:', status_freq_df.count()) "
   ]
  },
  {
   "cell_type": "code",
   "execution_count": 125,
   "id": "ca33d801-396f-41cf-9620-766ba6809468",
   "metadata": {},
   "outputs": [
    {
     "name": "stdout",
     "output_type": "stream",
     "text": [
      "+------+-----+\n",
      "|status|count|\n",
      "+------+-----+\n",
      "|   200|12040|\n",
      "|   206|  106|\n",
      "|   301|   39|\n",
      "|   302|  162|\n",
      "|   304|  135|\n",
      "|   400|   19|\n",
      "|   401|    2|\n",
      "|   403|    5|\n",
      "|   404| 1259|\n",
      "|   408| 1179|\n",
      "+------+-----+\n",
      "\n"
     ]
    }
   ],
   "source": [
    "status_freq_df.show()"
   ]
  },
  {
   "cell_type": "code",
   "execution_count": 126,
   "id": "27804cd6-e34a-42c6-8584-e26eb2833ac6",
   "metadata": {},
   "outputs": [
    {
     "data": {
      "text/html": [
       "<div>\n",
       "<style scoped>\n",
       "    .dataframe tbody tr th:only-of-type {\n",
       "        vertical-align: middle;\n",
       "    }\n",
       "\n",
       "    .dataframe tbody tr th {\n",
       "        vertical-align: top;\n",
       "    }\n",
       "\n",
       "    .dataframe thead th {\n",
       "        text-align: right;\n",
       "    }\n",
       "</style>\n",
       "<table border=\"1\" class=\"dataframe\">\n",
       "  <thead>\n",
       "    <tr style=\"text-align: right;\">\n",
       "      <th></th>\n",
       "      <th>status</th>\n",
       "      <th>count</th>\n",
       "    </tr>\n",
       "  </thead>\n",
       "  <tbody>\n",
       "    <tr>\n",
       "      <th>0</th>\n",
       "      <td>200</td>\n",
       "      <td>12040</td>\n",
       "    </tr>\n",
       "    <tr>\n",
       "      <th>8</th>\n",
       "      <td>404</td>\n",
       "      <td>1259</td>\n",
       "    </tr>\n",
       "    <tr>\n",
       "      <th>9</th>\n",
       "      <td>408</td>\n",
       "      <td>1179</td>\n",
       "    </tr>\n",
       "    <tr>\n",
       "      <th>3</th>\n",
       "      <td>302</td>\n",
       "      <td>162</td>\n",
       "    </tr>\n",
       "    <tr>\n",
       "      <th>4</th>\n",
       "      <td>304</td>\n",
       "      <td>135</td>\n",
       "    </tr>\n",
       "    <tr>\n",
       "      <th>1</th>\n",
       "      <td>206</td>\n",
       "      <td>106</td>\n",
       "    </tr>\n",
       "    <tr>\n",
       "      <th>2</th>\n",
       "      <td>301</td>\n",
       "      <td>39</td>\n",
       "    </tr>\n",
       "    <tr>\n",
       "      <th>5</th>\n",
       "      <td>400</td>\n",
       "      <td>19</td>\n",
       "    </tr>\n",
       "    <tr>\n",
       "      <th>7</th>\n",
       "      <td>403</td>\n",
       "      <td>5</td>\n",
       "    </tr>\n",
       "    <tr>\n",
       "      <th>6</th>\n",
       "      <td>401</td>\n",
       "      <td>2</td>\n",
       "    </tr>\n",
       "  </tbody>\n",
       "</table>\n",
       "</div>"
      ],
      "text/plain": [
       "   status  count\n",
       "0     200  12040\n",
       "8     404   1259\n",
       "9     408   1179\n",
       "3     302    162\n",
       "4     304    135\n",
       "1     206    106\n",
       "2     301     39\n",
       "5     400     19\n",
       "7     403      5\n",
       "6     401      2"
      ]
     },
     "execution_count": 126,
     "metadata": {},
     "output_type": "execute_result"
    }
   ],
   "source": [
    "status_freq_pd_df = (\n",
    "    status_freq_df\n",
    "    .toPandas()\n",
    "    .sort_values(\n",
    "        by=['count'],\n",
    "        ascending=False\n",
    "    )\n",
    ")\n",
    "status_freq_pd_df"
   ]
  },
  {
   "cell_type": "code",
   "execution_count": 127,
   "id": "f7599adf-7030-4d26-b82c-9b358d198692",
   "metadata": {},
   "outputs": [],
   "source": [
    "host_sum_df =(\n",
    "    logs_df\n",
    "    .groupBy('host')\n",
    "    .count()\n",
    "    .sort('count', ascending=False)\n",
    "    .limit(10)\n",
    ")"
   ]
  },
  {
   "cell_type": "code",
   "execution_count": 128,
   "id": "c49f5953-969e-4edd-b297-9e597b52b38d",
   "metadata": {},
   "outputs": [
    {
     "name": "stdout",
     "output_type": "stream",
     "text": [
      "+--------------+-----+\n",
      "|          host|count|\n",
      "+--------------+-----+\n",
      "|  89.64.71.249|  224|\n",
      "|   5.45.207.83|  137|\n",
      "|  54.36.149.17|  123|\n",
      "| 95.216.96.242|   99|\n",
      "|23.100.232.233|   95|\n",
      "|216.244.66.244|   92|\n",
      "| 185.191.171.4|   90|\n",
      "|185.191.171.43|   89|\n",
      "|185.191.171.24|   89|\n",
      "|185.191.171.44|   86|\n",
      "+--------------+-----+\n",
      "\n"
     ]
    }
   ],
   "source": [
    "host_sum_df.show()"
   ]
  },
  {
   "cell_type": "code",
   "execution_count": 129,
   "id": "9b2ce7d5-4529-418f-915e-642fbf28842f",
   "metadata": {},
   "outputs": [
    {
     "name": "stdout",
     "output_type": "stream",
     "text": [
      "+-----------------------------------------------------+-----+\n",
      "|endpoint                                             |count|\n",
      "+-----------------------------------------------------+-----+\n",
      "|\"-                                                   |1185 |\n",
      "|/favicon.ico                                         |874  |\n",
      "|/                                                    |398  |\n",
      "|/robots.txt                                          |369  |\n",
      "|/~randrusz/alglin/macodwr.pdf                        |204  |\n",
      "|/~randrusz/alglin/lzespolone.pdf                     |191  |\n",
      "|/~mariusz/share/classes/md/matematyka_dyskretna-w.pdf|163  |\n",
      "|/style/base.css                                      |122  |\n",
      "|/script/messages-pl.js                               |116  |\n",
      "|/style/layout-normal.css                             |112  |\n",
      "|/style/common.css                                    |110  |\n",
      "|/script/base.js                                      |108  |\n",
      "|/assets/body-bg.png                                  |100  |\n",
      "|/assets/pagebanner-bg.png                            |98   |\n",
      "|/assets/pagesearch-bg.png                            |98   |\n",
      "|/assets/pageheading-bg.png                           |97   |\n",
      "|/assets/ptr-srch.png                                 |96   |\n",
      "|/assets/ptr-sg.png                                   |96   |\n",
      "|/assets/pagebanner-u-pl.png                          |95   |\n",
      "|/assets/ptr-bo.png                                   |95   |\n",
      "+-----------------------------------------------------+-----+\n",
      "\n"
     ]
    }
   ],
   "source": [
    "paths_df = (\n",
    "    logs_df\n",
    "    .groupBy('endpoint')\n",
    "    .count()\n",
    "    .sort('count', ascending=False).limit(20)\n",
    ")\n",
    "\n",
    "paths_df.show(truncate=False)    "
   ]
  },
  {
   "cell_type": "code",
   "execution_count": 130,
   "id": "cdeb2bec-3d3b-4194-8dcf-931ee5ebd02b",
   "metadata": {},
   "outputs": [
    {
     "name": "stdout",
     "output_type": "stream",
     "text": [
      "+-----------------------------------------------------+-----+\n",
      "|endpoint                                             |count|\n",
      "+-----------------------------------------------------+-----+\n",
      "|\"-                                                   |1185 |\n",
      "|/favicon.ico                                         |874  |\n",
      "|/apple-touch-icon.png                                |74   |\n",
      "|/apple-touch-icon-precomposed.png                    |74   |\n",
      "|/script/dialog.js                                    |20   |\n",
      "|/currentsetting.htm                                  |19   |\n",
      "|/~mariusz/share/classes/md/matematyka_dyskretna-w.pdf|15   |\n",
      "|/~randrusz/alglin/lzespolone.pdf                     |13   |\n",
      "|/~uostasze/lista3_mf_iie_16.pdf                      |9    |\n",
      "|/vendor/phpunit/phpunit/src/Util/PHP/eval-stdin.php  |8    |\n",
      "+-----------------------------------------------------+-----+\n",
      "\n"
     ]
    }
   ],
   "source": [
    "not200_df = (\n",
    "    logs_df\n",
    "    .filter(logs_df['status'] != 200)\n",
    ")\n",
    "\n",
    "error_endpoints_freq_df = (\n",
    "    not200_df\n",
    "    .groupBy('endpoint')\n",
    "    .count()\n",
    "    .sort('count', ascending=False)\n",
    "    .limit(10)\n",
    ")\n",
    "                          \n",
    "error_endpoints_freq_df.show(truncate=False)           "
   ]
  },
  {
   "cell_type": "code",
   "execution_count": 131,
   "id": "2ec0eb7d-352c-4c25-9aa5-e95a1242bce7",
   "metadata": {},
   "outputs": [
    {
     "name": "stdout",
     "output_type": "stream",
     "text": [
      "+---------------+---+\n",
      "|host           |day|\n",
      "+---------------+---+\n",
      "|185.191.171.19 |8  |\n",
      "|185.191.171.43 |8  |\n",
      "|185.191.171.17 |8  |\n",
      "|13.66.139.2    |8  |\n",
      "|114.119.135.32 |8  |\n",
      "|185.191.171.18 |8  |\n",
      "|114.119.138.170|8  |\n",
      "|114.119.141.67 |8  |\n",
      "|185.191.171.7  |8  |\n",
      "|185.191.171.38 |8  |\n",
      "+---------------+---+\n",
      "only showing top 10 rows\n",
      "\n"
     ]
    }
   ],
   "source": [
    "import pyspark.sql.functions as F\n",
    "\n",
    "host_day_df = (\n",
    "    logs_df\n",
    "    .select(\n",
    "        logs_df.host, \n",
    "        F.dayofmonth('time').alias('day')\n",
    "    )\n",
    ")\n",
    "host_day_df.show(10, truncate=False)"
   ]
  },
  {
   "cell_type": "code",
   "execution_count": 132,
   "id": "c6f326c0-107d-456f-b8fc-c1e2320e7710",
   "metadata": {},
   "outputs": [
    {
     "name": "stdout",
     "output_type": "stream",
     "text": [
      "+---------------+---+\n",
      "|host           |day|\n",
      "+---------------+---+\n",
      "|185.191.171.19 |8  |\n",
      "|185.191.171.43 |8  |\n",
      "|185.191.171.17 |8  |\n",
      "|13.66.139.2    |8  |\n",
      "|114.119.135.32 |8  |\n",
      "|185.191.171.18 |8  |\n",
      "|114.119.138.170|8  |\n",
      "|114.119.141.67 |8  |\n",
      "|185.191.171.7  |8  |\n",
      "|185.191.171.38 |8  |\n",
      "+---------------+---+\n",
      "only showing top 10 rows\n",
      "\n"
     ]
    }
   ],
   "source": [
    "# Remove duplicate hosts on the same day\n",
    "host_day_distinct_df = (\n",
    "    host_day_df\n",
    "    .dropDuplicates()\n",
    ")\n",
    "host_day_df.show(10, truncate=False)"
   ]
  },
  {
   "cell_type": "code",
   "execution_count": 133,
   "id": "6944674c-4f86-4a54-99da-ac89e0e51ba7",
   "metadata": {},
   "outputs": [
    {
     "name": "stdout",
     "output_type": "stream",
     "text": [
      "+---+-----+\n",
      "|day|count|\n",
      "+---+-----+\n",
      "|8  |2024 |\n",
      "|9  |859  |\n",
      "+---+-----+\n",
      "\n"
     ]
    }
   ],
   "source": [
    "daily_hosts_df = (\n",
    "    host_day_distinct_df\n",
    "    .groupBy('day')\n",
    "    .count()\n",
    "    .sort(\"day\")\n",
    ")\n",
    "\n",
    "daily_hosts_df.show(10, truncate=False)"
   ]
  }
 ],
 "metadata": {
  "kernelspec": {
   "display_name": "Python 3 (ipykernel)",
   "language": "python",
   "name": "python3"
  },
  "language_info": {
   "codemirror_mode": {
    "name": "ipython",
    "version": 3
   },
   "file_extension": ".py",
   "mimetype": "text/x-python",
   "name": "python",
   "nbconvert_exporter": "python",
   "pygments_lexer": "ipython3",
   "version": "3.10.11"
  }
 },
 "nbformat": 4,
 "nbformat_minor": 5
}
